{
 "cells": [
  {
   "cell_type": "code",
   "execution_count": 1,
   "id": "774e9ae5",
   "metadata": {},
   "outputs": [],
   "source": [
    "import nltk"
   ]
  },
  {
   "cell_type": "markdown",
   "id": "53dde933",
   "metadata": {},
   "source": [
    "# <b> PorterStemmer</b>"
   ]
  },
  {
   "cell_type": "code",
   "execution_count": 2,
   "id": "775e7043",
   "metadata": {},
   "outputs": [],
   "source": [
    "from nltk.stem import PorterStemmer"
   ]
  },
  {
   "cell_type": "code",
   "execution_count": 3,
   "id": "c9b0427f",
   "metadata": {},
   "outputs": [],
   "source": [
    "porter = PorterStemmer()"
   ]
  },
  {
   "cell_type": "code",
   "execution_count": 4,
   "id": "2232e88a",
   "metadata": {},
   "outputs": [
    {
     "name": "stdout",
     "output_type": "stream",
     "text": [
      "walk\n"
     ]
    }
   ],
   "source": [
    "print(porter.stem('walks'))\n"
   ]
  },
  {
   "cell_type": "code",
   "execution_count": 5,
   "id": "ca9451fe",
   "metadata": {},
   "outputs": [
    {
     "data": {
      "text/plain": [
       "'walk'"
      ]
     },
     "execution_count": 5,
     "metadata": {},
     "output_type": "execute_result"
    }
   ],
   "source": [
    "porter.stem('walking')\n",
    "\n",
    "#meaningfull"
   ]
  },
  {
   "cell_type": "code",
   "execution_count": 6,
   "id": "83001283",
   "metadata": {},
   "outputs": [
    {
     "data": {
      "text/plain": [
       "'replac'"
      ]
     },
     "execution_count": 6,
     "metadata": {},
     "output_type": "execute_result"
    }
   ],
   "source": [
    "porter.stem('replacement')\n",
    "\n",
    "#not meaningfull"
   ]
  },
  {
   "cell_type": "code",
   "execution_count": 7,
   "id": "1b644a48",
   "metadata": {},
   "outputs": [
    {
     "name": "stdout",
     "output_type": "stream",
     "text": [
      "movement\n",
      "run\n",
      "boss\n",
      "berri\n"
     ]
    }
   ],
   "source": [
    "print(porter.stem('movement'))\n",
    "print(porter.stem('running'))\n",
    "print(porter.stem('bosses'))\n",
    "print(porter.stem('berry'))"
   ]
  },
  {
   "cell_type": "markdown",
   "id": "3dafed99",
   "metadata": {},
   "source": [
    "# <b>Snowball Stemmer</b>"
   ]
  },
  {
   "cell_type": "code",
   "execution_count": 8,
   "id": "9a6e134f",
   "metadata": {},
   "outputs": [],
   "source": [
    "from nltk.stem.snowball import SnowballStemmer"
   ]
  },
  {
   "cell_type": "code",
   "execution_count": 9,
   "id": "63ca40ac",
   "metadata": {},
   "outputs": [],
   "source": [
    "snowballstemmer = SnowballStemmer(language='english')"
   ]
  },
  {
   "cell_type": "code",
   "execution_count": 10,
   "id": "d5537a90",
   "metadata": {},
   "outputs": [
    {
     "name": "stdout",
     "output_type": "stream",
     "text": [
      "walk\n",
      "replac\n",
      "berri\n"
     ]
    }
   ],
   "source": [
    "print(snowballstemmer.stem('walks'))\n",
    "print(snowballstemmer.stem('replacement'))\n",
    "print(snowballstemmer.stem('berry'))"
   ]
  },
  {
   "cell_type": "code",
   "execution_count": 11,
   "id": "a6311550",
   "metadata": {
    "scrolled": true
   },
   "outputs": [
    {
     "name": "stdout",
     "output_type": "stream",
     "text": [
      "('arabic', 'danish', 'dutch', 'english', 'finnish', 'french', 'german', 'hungarian', 'italian', 'norwegian', 'porter', 'portuguese', 'romanian', 'russian', 'spanish', 'swedish')\n"
     ]
    }
   ],
   "source": [
    "print(SnowballStemmer.languages)\n",
    "\n",
    "#this much languages can be used with SnowballStemmer"
   ]
  },
  {
   "cell_type": "markdown",
   "id": "83996b1f",
   "metadata": {},
   "source": [
    "# <b>Lemmatization</b>"
   ]
  },
  {
   "cell_type": "code",
   "execution_count": 12,
   "id": "51fae84d",
   "metadata": {},
   "outputs": [],
   "source": [
    "sentence = \"Lemmatization is sophosticated to stemming\".split()"
   ]
  },
  {
   "cell_type": "code",
   "execution_count": 13,
   "id": "50e63377",
   "metadata": {},
   "outputs": [
    {
     "name": "stdout",
     "output_type": "stream",
     "text": [
      "lemmat\n",
      "is\n",
      "sophost\n",
      "to\n",
      "stem\n"
     ]
    }
   ],
   "source": [
    "#stemming is used here\n",
    "\n",
    "for tokens in sentence:\n",
    "    print(porter.stem(tokens))"
   ]
  },
  {
   "cell_type": "code",
   "execution_count": 14,
   "id": "96080601",
   "metadata": {},
   "outputs": [],
   "source": [
    "#Using Lemmatization\n",
    "\n",
    "#Lemmatization is case sensitive whereas stemming is not case sensitive"
   ]
  },
  {
   "cell_type": "code",
   "execution_count": 15,
   "id": "1c13846d",
   "metadata": {},
   "outputs": [],
   "source": [
    "from nltk.stem import WordNetLemmatizer"
   ]
  },
  {
   "cell_type": "code",
   "execution_count": 16,
   "id": "942753b0",
   "metadata": {},
   "outputs": [
    {
     "name": "stderr",
     "output_type": "stream",
     "text": [
      "[nltk_data] Downloading package wordnet to\n",
      "[nltk_data]     C:\\Users\\user\\AppData\\Roaming\\nltk_data...\n",
      "[nltk_data]   Package wordnet is already up-to-date!\n"
     ]
    },
    {
     "data": {
      "text/plain": [
       "True"
      ]
     },
     "execution_count": 16,
     "metadata": {},
     "output_type": "execute_result"
    }
   ],
   "source": [
    "#downloading the dataset have the word - lemma collection (like a Nx2 array)\n",
    "\n",
    "nltk.download('wordnet')"
   ]
  },
  {
   "cell_type": "code",
   "execution_count": 17,
   "id": "177accd0",
   "metadata": {},
   "outputs": [],
   "source": [
    "#corpus means dataset\n",
    "\n",
    "from nltk.corpus import wordnet"
   ]
  },
  {
   "cell_type": "code",
   "execution_count": 18,
   "id": "c2f6c8de",
   "metadata": {},
   "outputs": [],
   "source": [
    "lemmatizer = WordNetLemmatizer()"
   ]
  },
  {
   "cell_type": "code",
   "execution_count": 19,
   "id": "8a4b3522",
   "metadata": {},
   "outputs": [
    {
     "name": "stdout",
     "output_type": "stream",
     "text": [
      "v\n",
      "n\n"
     ]
    }
   ],
   "source": [
    "print(wordnet.VERB) #constants\n",
    "print(wordnet.NOUN)"
   ]
  },
  {
   "cell_type": "code",
   "execution_count": 20,
   "id": "cf68c47b",
   "metadata": {},
   "outputs": [
    {
     "name": "stderr",
     "output_type": "stream",
     "text": [
      "[nltk_data] Downloading package omw-1.4 to\n",
      "[nltk_data]     C:\\Users\\user\\AppData\\Roaming\\nltk_data...\n",
      "[nltk_data]   Package omw-1.4 is already up-to-date!\n"
     ]
    },
    {
     "data": {
      "text/plain": [
       "True"
      ]
     },
     "execution_count": 20,
     "metadata": {},
     "output_type": "execute_result"
    }
   ],
   "source": [
    "nltk.download('omw-1.4')\n",
    "\n",
    "#just to solve an error caused"
   ]
  },
  {
   "cell_type": "code",
   "execution_count": 21,
   "id": "567e0aae",
   "metadata": {
    "scrolled": true
   },
   "outputs": [
    {
     "name": "stdout",
     "output_type": "stream",
     "text": [
      "Walking\n",
      "mouse\n",
      "wa\n",
      "mouse\n",
      "be\n",
      "\n",
      "\n",
      "mous\n",
      "mice\n"
     ]
    }
   ],
   "source": [
    "print(lemmatizer.lemmatize('Walking'))\n",
    "print(lemmatizer.lemmatize('mouse'))\n",
    "print(lemmatizer.lemmatize('was'))\n",
    "print(lemmatizer.lemmatize('mice',pos='n'))\n",
    "\n",
    "print(lemmatizer.lemmatize('was',pos='v'))  ##pos = 'v' means context = verb\n",
    "\n",
    "#if we use stem we can see the difference\n",
    "print(\"\\n\")\n",
    "print(porter.stem('mouse'))\n",
    "print(porter.stem('mice'))"
   ]
  },
  {
   "cell_type": "markdown",
   "id": "fb3a83f9",
   "metadata": {},
   "source": [
    "# <b>How to use Parts of speech for context in lemmatization</b>"
   ]
  },
  {
   "cell_type": "code",
   "execution_count": 22,
   "id": "bbfa0daf",
   "metadata": {},
   "outputs": [
    {
     "name": "stderr",
     "output_type": "stream",
     "text": [
      "[nltk_data] Downloading package averaged_perceptron_tagger to\n",
      "[nltk_data]     C:\\Users\\user\\AppData\\Roaming\\nltk_data...\n",
      "[nltk_data]   Package averaged_perceptron_tagger is already up-to-\n",
      "[nltk_data]       date!\n"
     ]
    },
    {
     "data": {
      "text/plain": [
       "True"
      ]
     },
     "execution_count": 22,
     "metadata": {},
     "output_type": "execute_result"
    }
   ],
   "source": [
    "#averaged_perceptron_tagger is aa dataset which has the word - parts of speech pairs\n",
    "\n",
    "nltk.download('averaged_perceptron_tagger')"
   ]
  },
  {
   "cell_type": "code",
   "execution_count": 23,
   "id": "72d7a1d5",
   "metadata": {},
   "outputs": [],
   "source": [
    "sentence = \"I ate Mango\".split()"
   ]
  },
  {
   "cell_type": "code",
   "execution_count": 24,
   "id": "36ee9f58",
   "metadata": {},
   "outputs": [
    {
     "name": "stdout",
     "output_type": "stream",
     "text": [
      "[('I', 'PRP'), ('ate', 'VBP'), ('Mango', 'NNS')]\n"
     ]
    }
   ],
   "source": [
    "word_and_tag = nltk.pos_tag(sentence)\n",
    "print(word_and_tag)"
   ]
  },
  {
   "cell_type": "code",
   "execution_count": 25,
   "id": "1e6a6ddb",
   "metadata": {},
   "outputs": [],
   "source": [
    "#to convert words like 'ADJ','NNS',... to wordnet constants like wordnet.ADJ,...\n",
    "\n",
    "def get_POS(token_tag):\n",
    "    if token_tag.startswith('J'):\n",
    "        return wordnet.ADJ  \n",
    "    elif token_tag.startswith('N'):\n",
    "        return wordnet.NOUN  # is a constant , which is 'n'\n",
    "    elif token_tag.startswith('V'):\n",
    "        return wordnet.VERB\n",
    "    elif token_tag.startswith('R'):\n",
    "        return wordnet.ADV #it still continues...\n",
    "    else:\n",
    "        return wordnet.NOUN\n",
    "        \n",
    "        \n",
    "#wordnet.ADJ, wordnet.NOUN ,etc are constants"
   ]
  },
  {
   "cell_type": "code",
   "execution_count": 26,
   "id": "b907a05a",
   "metadata": {},
   "outputs": [
    {
     "name": "stdout",
     "output_type": "stream",
     "text": [
      "I\n",
      "eat\n",
      "Mango\n"
     ]
    }
   ],
   "source": [
    "for word,tag in word_and_tag:\n",
    "    lemma = lemmatizer.lemmatize(word,pos=get_POS(tag))\n",
    "    print(lemma)"
   ]
  },
  {
   "cell_type": "code",
   "execution_count": 27,
   "id": "b4c86a3b",
   "metadata": {},
   "outputs": [
    {
     "name": "stdout",
     "output_type": "stream",
     "text": [
      "The\n",
      "stripped\n",
      "bat\n",
      "be\n",
      "hang\n",
      "on\n",
      "their\n",
      "foot\n",
      "for\n",
      "the\n",
      "best\n"
     ]
    }
   ],
   "source": [
    "#another example\n",
    "\n",
    "sentence = \"The stripped bats are hanging on their feet for the best\".split()\n",
    "word_and_tag = nltk.pos_tag(sentence)\n",
    "\n",
    "for word,tag in word_and_tag:\n",
    "    lemma = lemmatizer.lemmatize(word,pos=get_POS(tag))\n",
    "    print(lemma)"
   ]
  },
  {
   "cell_type": "markdown",
   "id": "32b388be",
   "metadata": {},
   "source": [
    "### comparing the result with stemmer"
   ]
  },
  {
   "cell_type": "code",
   "execution_count": 28,
   "id": "4a2af630",
   "metadata": {},
   "outputs": [
    {
     "name": "stdout",
     "output_type": "stream",
     "text": [
      "the\n",
      "strip\n",
      "bat\n",
      "are\n",
      "hang\n",
      "on\n",
      "their\n",
      "feet\n",
      "for\n",
      "the\n",
      "best\n",
      "****************************\n",
      "the\n",
      "strip\n",
      "bat\n",
      "are\n",
      "hang\n",
      "on\n",
      "their\n",
      "feet\n",
      "for\n",
      "the\n",
      "best\n"
     ]
    }
   ],
   "source": [
    "for word,tag in word_and_tag: #here tag not needed, only need word\n",
    "    stemmed_output = porter.stem(word)\n",
    "    print(stemmed_output)\n",
    "    \n",
    "print('****************************')\n",
    "for word in sentence: #here tag not needed, only need word\n",
    "    stemmed_output = porter.stem(word)\n",
    "    print(stemmed_output)\n",
    "    \n",
    "#both are correct and same"
   ]
  },
  {
   "cell_type": "code",
   "execution_count": 29,
   "id": "d86e8c14",
   "metadata": {},
   "outputs": [],
   "source": [
    "#another method to find Parts of speech\n",
    "\n",
    "def get_POS_revised(token):\n",
    "    dict = {\n",
    "        'J' : wordnet.ADJ,\n",
    "        'N' : wordnet.NOUN,\n",
    "        'R' : wordnet.ADV,\n",
    "        'V' : wordnet.VERB\n",
    "    }\n",
    "    tag = nltk.pos_tag([token])[0][1][0].upper() \n",
    "    return dict.get(tag,wordnet.NOUN) \n",
    "\n",
    "    #dict.get() will return wordnet.NOUN if 'tag' is not present in dict\n",
    "\n",
    "    #slicing will allow us to get the first letter of tags from <word,tag> format"
   ]
  },
  {
   "cell_type": "code",
   "execution_count": 30,
   "id": "6a5407b6",
   "metadata": {},
   "outputs": [
    {
     "name": "stdout",
     "output_type": "stream",
     "text": [
      "The\n",
      "strip\n",
      "bat\n",
      "be\n",
      "hang\n",
      "on\n",
      "their\n",
      "foot\n",
      "for\n",
      "the\n",
      "best\n"
     ]
    }
   ],
   "source": [
    "sentence = \"The stripped bats are hanging on their feet for the best\".split()\n",
    "\n",
    "for word in sentence:\n",
    "    lemma = lemmatizer.lemmatize(word,pos=get_POS_revised(word))\n",
    "    print(lemma)"
   ]
  }
 ],
 "metadata": {
  "kernelspec": {
   "display_name": "Python 3 (ipykernel)",
   "language": "python",
   "name": "python3"
  },
  "language_info": {
   "codemirror_mode": {
    "name": "ipython",
    "version": 3
   },
   "file_extension": ".py",
   "mimetype": "text/x-python",
   "name": "python",
   "nbconvert_exporter": "python",
   "pygments_lexer": "ipython3",
   "version": "3.9.12"
  }
 },
 "nbformat": 4,
 "nbformat_minor": 5
}
