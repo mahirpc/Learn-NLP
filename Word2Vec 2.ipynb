{
 "cells": [
  {
   "cell_type": "code",
   "execution_count": 2,
   "id": "61435a0b",
   "metadata": {},
   "outputs": [
    {
     "name": "stdout",
     "output_type": "stream",
     "text": [
      "Requirement already satisfied: gensim in c:\\users\\user\\anaconda3\\lib\\site-packages (4.1.2)\n",
      "Requirement already satisfied: scipy>=0.18.1 in c:\\users\\user\\anaconda3\\lib\\site-packages (from gensim) (1.7.3)\n",
      "Requirement already satisfied: numpy>=1.17.0 in c:\\users\\user\\anaconda3\\lib\\site-packages (from gensim) (1.21.5)\n",
      "Requirement already satisfied: smart-open>=1.8.1 in c:\\users\\user\\anaconda3\\lib\\site-packages (from gensim) (5.1.0)\n"
     ]
    }
   ],
   "source": [
    "!pip install gensim"
   ]
  },
  {
   "cell_type": "code",
   "execution_count": 3,
   "id": "6ea99c79",
   "metadata": {},
   "outputs": [],
   "source": [
    "from gensim.models import Word2Vec"
   ]
  },
  {
   "cell_type": "markdown",
   "id": "cae21977",
   "metadata": {},
   "source": [
    "sentence --> Tokenize --> Word2Vec"
   ]
  },
  {
   "cell_type": "code",
   "execution_count": 4,
   "id": "2e45f2e8",
   "metadata": {},
   "outputs": [],
   "source": [
    "sentences = [[\"I\",\"am\",\"trying\",\"to\",\"understand\",\"Natural\",\"Language\",\"Processing\"],\\\n",
    "            [\"Naatural\",\"Language\",\"Processing\",\"is\",\"fun\",\"to\",\"learn\"],\\\n",
    "            [\"There\",\"are\",\"numerous\",\"use\",\"cases\",\"of\",\"Natural\",\"Language\",\"Processing\"]]"
   ]
  },
  {
   "cell_type": "code",
   "execution_count": 5,
   "id": "ae14e36c",
   "metadata": {},
   "outputs": [],
   "source": [
    "# min_count refer to the minimum document frequency , a word should have to take part in Word2Vec Process\n",
    "# those words with less document frequency will not be considered\n",
    "\n",
    "model = Word2Vec(sentences,min_count=1)"
   ]
  },
  {
   "cell_type": "code",
   "execution_count": 9,
   "id": "4634595c",
   "metadata": {},
   "outputs": [
    {
     "data": {
      "text/plain": [
       "100"
      ]
     },
     "execution_count": 9,
     "metadata": {},
     "output_type": "execute_result"
    }
   ],
   "source": [
    "model.vector_size"
   ]
  },
  {
   "cell_type": "code",
   "execution_count": 10,
   "id": "9c5c88dd",
   "metadata": {},
   "outputs": [
    {
     "data": {
      "text/plain": [
       "24"
      ]
     },
     "execution_count": 10,
     "metadata": {},
     "output_type": "execute_result"
    }
   ],
   "source": [
    "model.corpus_total_words"
   ]
  },
  {
   "cell_type": "code",
   "execution_count": 15,
   "id": "92493c37",
   "metadata": {},
   "outputs": [],
   "source": [
    "model = Word2Vec(sentences,min_count=3)"
   ]
  },
  {
   "cell_type": "code",
   "execution_count": 16,
   "id": "7d2e0725",
   "metadata": {},
   "outputs": [
    {
     "data": {
      "text/plain": [
       "24"
      ]
     },
     "execution_count": 16,
     "metadata": {},
     "output_type": "execute_result"
    }
   ],
   "source": [
    "model.corpus_total_words"
   ]
  },
  {
   "cell_type": "code",
   "execution_count": 17,
   "id": "53bc8d17",
   "metadata": {},
   "outputs": [],
   "source": [
    "#worker is nothing but assigning 'threads'(worker denotes no. of threads responsible for Wrd2Vec operation)\n",
    "#sg is skipgram\n",
    "#sg=0 -->  CBOW\n",
    "#sg=1 -->  Skipgram\n",
    "#neg = 1 --> apply negative subsampling\n",
    "model = Word2Vec(sentences,min_count=1,workers=2,sg=1)"
   ]
  }
 ],
 "metadata": {
  "kernelspec": {
   "display_name": "Python 3 (ipykernel)",
   "language": "python",
   "name": "python3"
  },
  "language_info": {
   "codemirror_mode": {
    "name": "ipython",
    "version": 3
   },
   "file_extension": ".py",
   "mimetype": "text/x-python",
   "name": "python",
   "nbconvert_exporter": "python",
   "pygments_lexer": "ipython3",
   "version": "3.9.12"
  }
 },
 "nbformat": 4,
 "nbformat_minor": 5
}
