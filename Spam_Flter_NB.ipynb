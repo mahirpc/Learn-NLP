{
 "cells": [
  {
   "cell_type": "code",
   "execution_count": 1,
   "id": "7df18fd4",
   "metadata": {},
   "outputs": [
    {
     "name": "stdout",
     "output_type": "stream",
     "text": [
      "Requirement already satisfied: wordcloud in c:\\users\\user\\anaconda3\\lib\\site-packages (1.8.2.2)\n",
      "Requirement already satisfied: numpy>=1.6.1 in c:\\users\\user\\anaconda3\\lib\\site-packages (from wordcloud) (1.21.5)\n",
      "Requirement already satisfied: matplotlib in c:\\users\\user\\anaconda3\\lib\\site-packages (from wordcloud) (3.5.1)\n",
      "Requirement already satisfied: pillow in c:\\users\\user\\anaconda3\\lib\\site-packages (from wordcloud) (9.0.1)\n",
      "Requirement already satisfied: pyparsing>=2.2.1 in c:\\users\\user\\anaconda3\\lib\\site-packages (from matplotlib->wordcloud) (3.0.4)\n",
      "Requirement already satisfied: fonttools>=4.22.0 in c:\\users\\user\\anaconda3\\lib\\site-packages (from matplotlib->wordcloud) (4.25.0)\n",
      "Requirement already satisfied: packaging>=20.0 in c:\\users\\user\\anaconda3\\lib\\site-packages (from matplotlib->wordcloud) (21.3)\n",
      "Requirement already satisfied: python-dateutil>=2.7 in c:\\users\\user\\anaconda3\\lib\\site-packages (from matplotlib->wordcloud) (2.8.2)\n",
      "Requirement already satisfied: kiwisolver>=1.0.1 in c:\\users\\user\\anaconda3\\lib\\site-packages (from matplotlib->wordcloud) (1.3.2)\n",
      "Requirement already satisfied: cycler>=0.10 in c:\\users\\user\\anaconda3\\lib\\site-packages (from matplotlib->wordcloud) (0.11.0)\n",
      "Requirement already satisfied: six>=1.5 in c:\\users\\user\\anaconda3\\lib\\site-packages (from python-dateutil>=2.7->matplotlib->wordcloud) (1.16.0)\n"
     ]
    }
   ],
   "source": [
    "!pip install wordcloud"
   ]
  },
  {
   "cell_type": "code",
   "execution_count": 2,
   "id": "350417f5",
   "metadata": {},
   "outputs": [],
   "source": [
    "import pandas as pd\n",
    "import numpy as np\n",
    "import seaborn as sns\n",
    "import matplotlib.pyplot as plt\n",
    "from sklearn.feature_extraction.text import TfidfVectorizer,CountVectorizer\n",
    "from sklearn.model_selection import train_test_split\n",
    "from sklearn.metrics import f1_score,confusion_matrix,roc_auc_score\n",
    "from sklearn.naive_bayes import MultinomialNB\n",
    "from wordcloud import WordCloud\n"
   ]
  },
  {
   "cell_type": "code",
   "execution_count": 3,
   "id": "083cd91c",
   "metadata": {},
   "outputs": [],
   "source": [
    "df = pd.read_csv(\"Dataset/spam.csv\",encoding='ISO-8859-1')\n",
    "# 'ISO-8859-1' used to only read unicode characters and avoid reading emogies, like things in text"
   ]
  },
  {
   "cell_type": "code",
   "execution_count": 4,
   "id": "7b9c202d",
   "metadata": {},
   "outputs": [
    {
     "data": {
      "text/html": [
       "<div>\n",
       "<style scoped>\n",
       "    .dataframe tbody tr th:only-of-type {\n",
       "        vertical-align: middle;\n",
       "    }\n",
       "\n",
       "    .dataframe tbody tr th {\n",
       "        vertical-align: top;\n",
       "    }\n",
       "\n",
       "    .dataframe thead th {\n",
       "        text-align: right;\n",
       "    }\n",
       "</style>\n",
       "<table border=\"1\" class=\"dataframe\">\n",
       "  <thead>\n",
       "    <tr style=\"text-align: right;\">\n",
       "      <th></th>\n",
       "      <th>Category</th>\n",
       "      <th>Message</th>\n",
       "    </tr>\n",
       "  </thead>\n",
       "  <tbody>\n",
       "    <tr>\n",
       "      <th>0</th>\n",
       "      <td>ham</td>\n",
       "      <td>Go until jurong point, crazy.. Available only ...</td>\n",
       "    </tr>\n",
       "    <tr>\n",
       "      <th>1</th>\n",
       "      <td>ham</td>\n",
       "      <td>Ok lar... Joking wif u oni...</td>\n",
       "    </tr>\n",
       "    <tr>\n",
       "      <th>2</th>\n",
       "      <td>spam</td>\n",
       "      <td>Free entry in 2 a wkly comp to win FA Cup fina...</td>\n",
       "    </tr>\n",
       "    <tr>\n",
       "      <th>3</th>\n",
       "      <td>ham</td>\n",
       "      <td>U dun say so early hor... U c already then say...</td>\n",
       "    </tr>\n",
       "    <tr>\n",
       "      <th>4</th>\n",
       "      <td>ham</td>\n",
       "      <td>Nah I don't think he goes to usf, he lives aro...</td>\n",
       "    </tr>\n",
       "  </tbody>\n",
       "</table>\n",
       "</div>"
      ],
      "text/plain": [
       "  Category                                            Message\n",
       "0      ham  Go until jurong point, crazy.. Available only ...\n",
       "1      ham                      Ok lar... Joking wif u oni...\n",
       "2     spam  Free entry in 2 a wkly comp to win FA Cup fina...\n",
       "3      ham  U dun say so early hor... U c already then say...\n",
       "4      ham  Nah I don't think he goes to usf, he lives aro..."
      ]
     },
     "execution_count": 4,
     "metadata": {},
     "output_type": "execute_result"
    }
   ],
   "source": [
    "df.head(5)"
   ]
  },
  {
   "cell_type": "code",
   "execution_count": 5,
   "id": "d43fb5ed",
   "metadata": {},
   "outputs": [],
   "source": [
    "df.columns = ['labels','data']\n",
    "\n",
    "#changing the heading of the coulmns"
   ]
  },
  {
   "cell_type": "code",
   "execution_count": 6,
   "id": "6db0dc07",
   "metadata": {},
   "outputs": [
    {
     "data": {
      "text/html": [
       "<div>\n",
       "<style scoped>\n",
       "    .dataframe tbody tr th:only-of-type {\n",
       "        vertical-align: middle;\n",
       "    }\n",
       "\n",
       "    .dataframe tbody tr th {\n",
       "        vertical-align: top;\n",
       "    }\n",
       "\n",
       "    .dataframe thead th {\n",
       "        text-align: right;\n",
       "    }\n",
       "</style>\n",
       "<table border=\"1\" class=\"dataframe\">\n",
       "  <thead>\n",
       "    <tr style=\"text-align: right;\">\n",
       "      <th></th>\n",
       "      <th>labels</th>\n",
       "      <th>data</th>\n",
       "    </tr>\n",
       "  </thead>\n",
       "  <tbody>\n",
       "    <tr>\n",
       "      <th>0</th>\n",
       "      <td>ham</td>\n",
       "      <td>Go until jurong point, crazy.. Available only ...</td>\n",
       "    </tr>\n",
       "    <tr>\n",
       "      <th>1</th>\n",
       "      <td>ham</td>\n",
       "      <td>Ok lar... Joking wif u oni...</td>\n",
       "    </tr>\n",
       "    <tr>\n",
       "      <th>2</th>\n",
       "      <td>spam</td>\n",
       "      <td>Free entry in 2 a wkly comp to win FA Cup fina...</td>\n",
       "    </tr>\n",
       "    <tr>\n",
       "      <th>3</th>\n",
       "      <td>ham</td>\n",
       "      <td>U dun say so early hor... U c already then say...</td>\n",
       "    </tr>\n",
       "    <tr>\n",
       "      <th>4</th>\n",
       "      <td>ham</td>\n",
       "      <td>Nah I don't think he goes to usf, he lives aro...</td>\n",
       "    </tr>\n",
       "  </tbody>\n",
       "</table>\n",
       "</div>"
      ],
      "text/plain": [
       "  labels                                               data\n",
       "0    ham  Go until jurong point, crazy.. Available only ...\n",
       "1    ham                      Ok lar... Joking wif u oni...\n",
       "2   spam  Free entry in 2 a wkly comp to win FA Cup fina...\n",
       "3    ham  U dun say so early hor... U c already then say...\n",
       "4    ham  Nah I don't think he goes to usf, he lives aro..."
      ]
     },
     "execution_count": 6,
     "metadata": {},
     "output_type": "execute_result"
    }
   ],
   "source": [
    "df.head()"
   ]
  },
  {
   "cell_type": "code",
   "execution_count": 7,
   "id": "b4c9d7dd",
   "metadata": {},
   "outputs": [
    {
     "data": {
      "text/plain": [
       "<AxesSubplot:>"
      ]
     },
     "execution_count": 7,
     "metadata": {},
     "output_type": "execute_result"
    },
    {
     "data": {
      "image/png": "[encoded data removed]",
      "text/plain": [
       "<Figure size 432x288 with 1 Axes>"
      ]
     },
     "metadata": {
      "needs_background": "light"
     },
     "output_type": "display_data"
    }
   ],
   "source": [
    "df.labels.hist()"
   ]
  },
  {
   "cell_type": "code",
   "execution_count": 8,
   "id": "2e4f2ac0",
   "metadata": {},
   "outputs": [],
   "source": [
    "y = df['labels'].map({'ham':0,'spam':1})"
   ]
  },
  {
   "cell_type": "code",
   "execution_count": 9,
   "id": "a4fc7897",
   "metadata": {},
   "outputs": [
    {
     "data": {
      "text/plain": [
       "0    0\n",
       "1    0\n",
       "2    1\n",
       "3    0\n",
       "4    0\n",
       "Name: labels, dtype: int64"
      ]
     },
     "execution_count": 9,
     "metadata": {},
     "output_type": "execute_result"
    }
   ],
   "source": [
    "y.head()"
   ]
  },
  {
   "cell_type": "code",
   "execution_count": 10,
   "id": "9dbb255f",
   "metadata": {},
   "outputs": [],
   "source": [
    "x = df['data']"
   ]
  },
  {
   "cell_type": "code",
   "execution_count": 11,
   "id": "9af31fd9",
   "metadata": {},
   "outputs": [],
   "source": [
    "x_train,x_test,y_train,y_test = train_test_split(x,y,test_size=0.20,\\\n",
    "                                                 random_state=10)"
   ]
  },
  {
   "cell_type": "code",
   "execution_count": 12,
   "id": "a2cec68f",
   "metadata": {},
   "outputs": [
    {
     "name": "stdout",
     "output_type": "stream",
     "text": [
      "5281               And how you will do that, princess? :)\n",
      "1300    Great to hear you are settling well. So what's...\n",
      "5128    Wot about on wed nite I am 3 then but only til 9!\n",
      "1808      Do have a nice day today. I love you so dearly.\n",
      "856     Talk sexy!! Make new friends or fall in love i...\n",
      "Name: data, dtype: object\n",
      " \n",
      " 5281    0\n",
      "1300    0\n",
      "5128    0\n",
      "1808    0\n",
      "856     1\n",
      "Name: labels, dtype: int64\n"
     ]
    }
   ],
   "source": [
    "print(x_train.head(),end=\"\\n \\n \")\n",
    "print(y_train.head())"
   ]
  },
  {
   "cell_type": "markdown",
   "id": "110355ee",
   "metadata": {},
   "source": [
    "## Using Count vectorizer to make each text to vector"
   ]
  },
  {
   "cell_type": "code",
   "execution_count": 13,
   "id": "d9c80690",
   "metadata": {},
   "outputs": [],
   "source": [
    "vectorizer = CountVectorizer(decode_error='ignore') \n",
    "# decode_error='ignore' is to ignore text like emogies\n",
    "\n",
    "x_train = vectorizer.fit_transform(x_train)\n",
    "x_test = vectorizer.transform(x_test)"
   ]
  },
  {
   "cell_type": "code",
   "execution_count": 14,
   "id": "9ce515b2",
   "metadata": {},
   "outputs": [
    {
     "data": {
      "text/plain": [
       "<4457x7756 sparse matrix of type '<class 'numpy.int64'>'\n",
       "\twith 59447 stored elements in Compressed Sparse Row format>"
      ]
     },
     "execution_count": 14,
     "metadata": {},
     "output_type": "execute_result"
    }
   ],
   "source": [
    "x_train"
   ]
  },
  {
   "cell_type": "code",
   "execution_count": 15,
   "id": "ff9469fe",
   "metadata": {},
   "outputs": [
    {
     "data": {
      "text/plain": [
       "<1115x7756 sparse matrix of type '<class 'numpy.int64'>'\n",
       "\twith 13687 stored elements in Compressed Sparse Row format>"
      ]
     },
     "execution_count": 15,
     "metadata": {},
     "output_type": "execute_result"
    }
   ],
   "source": [
    "x_test"
   ]
  },
  {
   "cell_type": "code",
   "execution_count": 16,
   "id": "b0e6eb83",
   "metadata": {},
   "outputs": [],
   "source": [
    "# Creating training model"
   ]
  },
  {
   "cell_type": "code",
   "execution_count": 17,
   "id": "24fd772a",
   "metadata": {},
   "outputs": [
    {
     "name": "stdout",
     "output_type": "stream",
     "text": [
      "Train Accuracy : 0.9939421135292797\n",
      "Test Accuracy : 0.9838565022421525\n"
     ]
    }
   ],
   "source": [
    "model = MultinomialNB()\n",
    "model.fit(x_train,y_train)\n",
    "\n",
    "print(\"Train Accuracy :\", model.score(x_train,y_train))\n",
    "print(\"Test Accuracy :\", model.score(x_test,y_test))\n",
    "\n",
    "#for an imbalanced set like this (we know from hist()) accuracy is not the good measure, instead use f1 score"
   ]
  },
  {
   "cell_type": "code",
   "execution_count": 18,
   "id": "30571d39",
   "metadata": {},
   "outputs": [],
   "source": [
    "#finding F1 score"
   ]
  },
  {
   "cell_type": "code",
   "execution_count": 19,
   "id": "b1fc53f9",
   "metadata": {},
   "outputs": [
    {
     "name": "stdout",
     "output_type": "stream",
     "text": [
      "Train F1 score is :  0.9775561097256857\n",
      "Test F1 score is :  0.935251798561151\n"
     ]
    }
   ],
   "source": [
    "predicted_for_train = model.predict(x_train)\n",
    "predicted_for_test = model.predict(x_test)\n",
    "\n",
    "print(\"Train F1 score is : \", f1_score(y_train,predicted_for_train))\n",
    "print(\"Test F1 score is : \", f1_score(y_test,predicted_for_test))"
   ]
  },
  {
   "cell_type": "code",
   "execution_count": 20,
   "id": "b5845988",
   "metadata": {},
   "outputs": [],
   "source": [
    "# using prediction probability"
   ]
  },
  {
   "cell_type": "code",
   "execution_count": 21,
   "id": "15757768",
   "metadata": {},
   "outputs": [],
   "source": [
    "#[prob for ham, prob for spam]\n",
    "#prob for ham ->\n",
    "\n",
    "prob_train = model.predict_proba(x_train)[:,1] #slicing to only take spam related values\n",
    "\n",
    "prob_test = model.predict_proba(x_test)[:,1]"
   ]
  },
  {
   "cell_type": "code",
   "execution_count": 22,
   "id": "eb5835c0",
   "metadata": {},
   "outputs": [
    {
     "data": {
      "text/plain": [
       "array([1.09343242e-01, 7.93834092e-02, 1.24918763e-04, ...,\n",
       "       2.86607592e-14, 1.06029426e-02, 1.19485235e-06])"
      ]
     },
     "execution_count": 22,
     "metadata": {},
     "output_type": "execute_result"
    }
   ],
   "source": [
    "prob_test"
   ]
  },
  {
   "cell_type": "code",
   "execution_count": 23,
   "id": "b97ec19f",
   "metadata": {},
   "outputs": [
    {
     "data": {
      "text/plain": [
       "array([1.94632465e-06, 5.90332669e-06, 2.64156054e-07, ...,\n",
       "       4.73074231e-24, 9.96417787e-04, 5.68504283e-04])"
      ]
     },
     "execution_count": 23,
     "metadata": {},
     "output_type": "execute_result"
    }
   ],
   "source": [
    "prob_train"
   ]
  },
  {
   "cell_type": "code",
   "execution_count": 25,
   "id": "f606f4fd",
   "metadata": {},
   "outputs": [
    {
     "name": "stdout",
     "output_type": "stream",
     "text": [
      "Train_ROC_AUC: 0.9939867962179638\n"
     ]
    }
   ],
   "source": [
    "print(\"Train_ROC_AUC:\",roc_auc_score(y_train,prob_train))\n",
    "\n",
    "#<.5 is not good"
   ]
  },
  {
   "cell_type": "code",
   "execution_count": 26,
   "id": "860afa02",
   "metadata": {},
   "outputs": [
    {
     "name": "stdout",
     "output_type": "stream",
     "text": [
      "Test_ROC_AUC: 0.9697545253100809\n"
     ]
    }
   ],
   "source": [
    "print(\"Test_ROC_AUC:\",roc_auc_score(y_test,prob_test))\n",
    "\n",
    "#<.5 is not good"
   ]
  },
  {
   "cell_type": "code",
   "execution_count": 32,
   "id": "0a117b07",
   "metadata": {},
   "outputs": [],
   "source": [
    "p_train = model.predict(x_train)"
   ]
  },
  {
   "cell_type": "code",
   "execution_count": 33,
   "id": "42f92a93",
   "metadata": {},
   "outputs": [
    {
     "data": {
      "text/plain": [
       "array([[3842,   11],\n",
       "       [  16,  588]], dtype=int64)"
      ]
     },
     "execution_count": 33,
     "metadata": {},
     "output_type": "execute_result"
    }
   ],
   "source": [
    "#Confusion Matrix\n",
    "\n",
    "cm_train = confusion_matrix(y_train,p_train)\n",
    "cm_train"
   ]
  },
  {
   "cell_type": "code",
   "execution_count": 37,
   "id": "5ecf8fd6",
   "metadata": {},
   "outputs": [
    {
     "data": {
      "text/plain": [
       "Text(33.0, 0.5, 'Actual')"
      ]
     },
     "execution_count": 37,
     "metadata": {},
     "output_type": "execute_result"
    },
    {
     "data": {
      "image/png": "[encoded data removed]",
      "text/plain": [
       "<Figure size 432x288 with 2 Axes>"
      ]
     },
     "metadata": {
      "needs_background": "light"
     },
     "output_type": "display_data"
    }
   ],
   "source": [
    "ax = sns.heatmap(cm_train,annot=True,xticklabels=['ham','spam'],yticklabels=['ham','spam'],fmt='g')\n",
    "ax.set_xlabel('Prediction')\n",
    "ax.set_ylabel('Actual')"
   ]
  },
  {
   "cell_type": "code",
   "execution_count": 38,
   "id": "9487cffc",
   "metadata": {},
   "outputs": [],
   "source": [
    "#make confusion_matrix of y_test,predicted_test"
   ]
  },
  {
   "cell_type": "code",
   "execution_count": 39,
   "id": "8b81c4a9",
   "metadata": {},
   "outputs": [],
   "source": [
    "#Visualize word cloud"
   ]
  },
  {
   "cell_type": "code",
   "execution_count": null,
   "id": "9b8137d8",
   "metadata": {},
   "outputs": [],
   "source": [
    "# check where our model is going wrong"
   ]
  }
 ],
 "metadata": {
  "kernelspec": {
   "display_name": "Python 3 (ipykernel)",
   "language": "python",
   "name": "python3"
  },
  "language_info": {
   "codemirror_mode": {
    "name": "ipython",
    "version": 3
   },
   "file_extension": ".py",
   "mimetype": "text/x-python",
   "name": "python",
   "nbconvert_exporter": "python",
   "pygments_lexer": "ipython3",
   "version": "3.9.12"
  }
 },
 "nbformat": 4,
 "nbformat_minor": 5
}
