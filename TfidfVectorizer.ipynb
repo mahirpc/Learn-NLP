{
 "cells": [
  {
   "cell_type": "code",
   "execution_count": 1,
   "id": "c8eebd7e",
   "metadata": {},
   "outputs": [],
   "source": [
    "from sklearn.feature_extraction.text import TfidfVectorizer"
   ]
  },
  {
   "cell_type": "code",
   "execution_count": 2,
   "id": "ff79ba3c",
   "metadata": {},
   "outputs": [],
   "source": [
    "d1 = 'petrol cars are cheaper than diesel cars'\n",
    "d2 = 'diesel is cheaper than petrol'"
   ]
  },
  {
   "cell_type": "code",
   "execution_count": 3,
   "id": "06bb2250",
   "metadata": {},
   "outputs": [
    {
     "data": {
      "text/plain": [
       "['petrol cars are cheaper than diesel cars', 'diesel is cheaper than petrol']"
      ]
     },
     "execution_count": 3,
     "metadata": {},
     "output_type": "execute_result"
    }
   ],
   "source": [
    "doc_corpus = [d1,d2]\n",
    "doc_corpus"
   ]
  },
  {
   "cell_type": "code",
   "execution_count": 4,
   "id": "4510ba86",
   "metadata": {},
   "outputs": [],
   "source": [
    "# clean the documnets and remove the stopwords\n",
    "\n",
    "vec = TfidfVectorizer(stop_words='english')\n",
    "matrix = vec.fit_transform(doc_corpus)\n",
    "#here doc_corpus is list of strings,and list of list cann't be passed to fit_transform"
   ]
  },
  {
   "cell_type": "code",
   "execution_count": 5,
   "id": "e7c9c257",
   "metadata": {},
   "outputs": [
    {
     "name": "stdout",
     "output_type": "stream",
     "text": [
      "['cars', 'cheaper', 'diesel', 'petrol']\n"
     ]
    },
    {
     "name": "stderr",
     "output_type": "stream",
     "text": [
      "C:\\Users\\user\\anaconda3\\lib\\site-packages\\sklearn\\utils\\deprecation.py:87: FutureWarning: Function get_feature_names is deprecated; get_feature_names is deprecated in 1.0 and will be removed in 1.2. Please use get_feature_names_out instead.\n",
      "  warnings.warn(msg, category=FutureWarning)\n"
     ]
    }
   ],
   "source": [
    "print(vec.get_feature_names())"
   ]
  },
  {
   "cell_type": "code",
   "execution_count": 6,
   "id": "b3c38246",
   "metadata": {},
   "outputs": [
    {
     "name": "stdout",
     "output_type": "stream",
     "text": [
      "{'petrol': 3, 'cars': 0, 'cheaper': 1, 'diesel': 2}\n"
     ]
    }
   ],
   "source": [
    "print(vec.vocabulary_)"
   ]
  },
  {
   "cell_type": "code",
   "execution_count": 7,
   "id": "1da53685",
   "metadata": {},
   "outputs": [
    {
     "name": "stdout",
     "output_type": "stream",
     "text": [
      "(2, 4)\n"
     ]
    }
   ],
   "source": [
    "print(matrix.shape)\n",
    "\n",
    "#here row=2 shows no. of documents\n",
    "#col=4 shows shows the words in vector"
   ]
  },
  {
   "cell_type": "code",
   "execution_count": 8,
   "id": "27db2cb4",
   "metadata": {},
   "outputs": [
    {
     "name": "stdout",
     "output_type": "stream",
     "text": [
      "[[0.85135433 0.30287281 0.30287281 0.30287281]\n",
      " [0.         0.57735027 0.57735027 0.57735027]]\n"
     ]
    }
   ],
   "source": [
    "print(matrix.toarray())"
   ]
  }
 ],
 "metadata": {
  "kernelspec": {
   "display_name": "Python 3 (ipykernel)",
   "language": "python",
   "name": "python3"
  },
  "language_info": {
   "codemirror_mode": {
    "name": "ipython",
    "version": 3
   },
   "file_extension": ".py",
   "mimetype": "text/x-python",
   "name": "python",
   "nbconvert_exporter": "python",
   "pygments_lexer": "ipython3",
   "version": "3.9.13"
  }
 },
 "nbformat": 4,
 "nbformat_minor": 5
}
