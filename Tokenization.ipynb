{
 "cells": [
  {
   "cell_type": "code",
   "execution_count": 1,
   "id": "b102fdc7",
   "metadata": {
    "scrolled": true
   },
   "outputs": [
    {
     "name": "stdout",
     "output_type": "stream",
     "text": [
      "Requirement already satisfied: nltk in c:\\users\\user\\anaconda3\\lib\\site-packages (3.7)\n",
      "Requirement already satisfied: click in c:\\users\\user\\anaconda3\\lib\\site-packages (from nltk) (8.0.4)\n",
      "Requirement already satisfied: joblib in c:\\users\\user\\anaconda3\\lib\\site-packages (from nltk) (1.1.0)\n",
      "Requirement already satisfied: regex>=2021.8.3 in c:\\users\\user\\anaconda3\\lib\\site-packages (from nltk) (2022.3.15)\n",
      "Requirement already satisfied: tqdm in c:\\users\\user\\anaconda3\\lib\\site-packages (from nltk) (4.64.0)\n",
      "Requirement already satisfied: colorama in c:\\users\\user\\anaconda3\\lib\\site-packages (from click->nltk) (0.4.4)\n"
     ]
    }
   ],
   "source": [
    "!pip3 install nltk"
   ]
  },
  {
   "cell_type": "code",
   "execution_count": 2,
   "id": "54fed01b",
   "metadata": {},
   "outputs": [],
   "source": [
    "sentence = \"Capital of India is Delhi\""
   ]
  },
  {
   "cell_type": "code",
   "execution_count": 3,
   "id": "06f9704d",
   "metadata": {
    "scrolled": true
   },
   "outputs": [
    {
     "data": {
      "text/plain": [
       "['Capital', 'of', 'India', 'is', 'Delhi']"
      ]
     },
     "execution_count": 3,
     "metadata": {},
     "output_type": "execute_result"
    }
   ],
   "source": [
    "sentence.split()"
   ]
  },
  {
   "cell_type": "code",
   "execution_count": 4,
   "id": "7d1c7af8",
   "metadata": {},
   "outputs": [],
   "source": [
    "s = \"I'am going to kerala\""
   ]
  },
  {
   "cell_type": "code",
   "execution_count": 5,
   "id": "dc854bd4",
   "metadata": {},
   "outputs": [
    {
     "data": {
      "text/plain": [
       "[\"I'am\", 'going', 'to', 'kerala']"
      ]
     },
     "execution_count": 5,
     "metadata": {},
     "output_type": "execute_result"
    }
   ],
   "source": [
    "s.split()\n",
    "\n",
    "#Here \"I'am\" is a single word, but we need it as \"I\" and  \"am\""
   ]
  },
  {
   "cell_type": "code",
   "execution_count": 6,
   "id": "0e79b249",
   "metadata": {},
   "outputs": [
    {
     "data": {
      "text/plain": [
       "[\"Let's\", 'all', 'travel', 'to', 'Hong', 'Kong']"
      ]
     },
     "execution_count": 6,
     "metadata": {},
     "output_type": "execute_result"
    }
   ],
   "source": [
    "s = \"Let's all travel to Hong Kong\"\n",
    "s.split()\n",
    "\n",
    "#here hong kong is treated as two words, and it is actuallt a single word"
   ]
  },
  {
   "cell_type": "code",
   "execution_count": 7,
   "id": "3e96cd6d",
   "metadata": {},
   "outputs": [],
   "source": [
    "# we can understand that split fuction got that drawback, that it doesn't preserve the meaning of the words"
   ]
  },
  {
   "cell_type": "markdown",
   "id": "f7654b48",
   "metadata": {},
   "source": [
    "# RegexpTokenizer"
   ]
  },
  {
   "cell_type": "code",
   "execution_count": 8,
   "id": "3d557be0",
   "metadata": {},
   "outputs": [],
   "source": [
    "from nltk.tokenize import RegexpTokenizer"
   ]
  },
  {
   "cell_type": "code",
   "execution_count": 9,
   "id": "abc440db",
   "metadata": {},
   "outputs": [],
   "source": [
    "sentence = \"The cost of Rolex watch is in range of $3000-$10000 in USA\""
   ]
  },
  {
   "cell_type": "code",
   "execution_count": 10,
   "id": "62310daa",
   "metadata": {},
   "outputs": [],
   "source": [
    "tokenizer = RegexpTokenizer('\\w+')\n",
    "tokenizer1 = RegexpTokenizer('\\w+|\\$[\\d]+')\n",
    "\n",
    "#RegexpTokenizer('\\w+|\\$')\n",
    "#RegexpTokenizer('\\w+|\\$[\\d]+')\n",
    "#RegexpTokenizer('\\w+|\\$[\\d]+|\\s')\n",
    "#\\s includes white spices \n",
    "#\\S excludes white spaces and includes other charecters like -,..\n",
    "\n",
    "#creating object for RegexpTokenizer with the pattern as '\\w+' for one or more occurance of letters\n"
   ]
  },
  {
   "cell_type": "code",
   "execution_count": 11,
   "id": "07a49bdb",
   "metadata": {},
   "outputs": [
    {
     "name": "stdout",
     "output_type": "stream",
     "text": [
      "['The', 'cost', 'of', 'Rolex', 'watch', 'is', 'in', 'range', 'of', '3000', '10000', 'in', 'USA']\n",
      "******************************\n",
      "['The', 'cost', 'of', 'Rolex', 'watch', 'is', 'in', 'range', 'of', '$3000', '$10000', 'in', 'USA']\n"
     ]
    }
   ],
   "source": [
    "print(tokenizer.tokenize(sentence))\n",
    "\n",
    "print('******************************')\n",
    "\n",
    "print(tokenizer1.tokenize(sentence))\n",
    "\n",
    "#function 'Tokenize' is used to tokenize the sentence"
   ]
  },
  {
   "cell_type": "markdown",
   "id": "3f37206b",
   "metadata": {},
   "source": [
    "# TreebankWord Tokenizer"
   ]
  },
  {
   "cell_type": "code",
   "execution_count": 12,
   "id": "04bfb2e6",
   "metadata": {},
   "outputs": [],
   "source": [
    "#'Penn Tree Bank' tokenizers split, based on delimiter, eg : \"TreebankWordTokenizer\""
   ]
  },
  {
   "cell_type": "code",
   "execution_count": 13,
   "id": "9262405e",
   "metadata": {},
   "outputs": [],
   "source": [
    "from nltk.tokenize import TreebankWordTokenizer"
   ]
  },
  {
   "cell_type": "code",
   "execution_count": 14,
   "id": "5fd666cf",
   "metadata": {},
   "outputs": [],
   "source": [
    "sentence = \"Rolex watch doesn't cost more than $3000 in USA\""
   ]
  },
  {
   "cell_type": "code",
   "execution_count": 15,
   "id": "b7a7bdfa",
   "metadata": {},
   "outputs": [
    {
     "data": {
      "text/plain": [
       "['Rolex',\n",
       " 'watch',\n",
       " 'does',\n",
       " \"n't\",\n",
       " 'cost',\n",
       " 'more',\n",
       " 'than',\n",
       " '$',\n",
       " '3000',\n",
       " 'in',\n",
       " 'USA']"
      ]
     },
     "execution_count": 15,
     "metadata": {},
     "output_type": "execute_result"
    }
   ],
   "source": [
    "tbTokenizer = TreebankWordTokenizer()\n",
    "\n",
    "tbTokenizer.tokenize(sentence)"
   ]
  },
  {
   "cell_type": "markdown",
   "id": "2fcaebd4",
   "metadata": {},
   "source": []
  },
  {
   "cell_type": "markdown",
   "id": "c53cb5c1",
   "metadata": {},
   "source": [
    "# Tweet Tokenizer"
   ]
  },
  {
   "cell_type": "code",
   "execution_count": 16,
   "id": "366fe186",
   "metadata": {},
   "outputs": [],
   "source": [
    "from nltk.tokenize import TweetTokenizer"
   ]
  },
  {
   "cell_type": "code",
   "execution_count": 17,
   "id": "ce8c55de",
   "metadata": {},
   "outputs": [],
   "source": [
    "sentence = \"@mahir696 I'm going to buy a Rolexxxxxxx watch that cost $3000\"\n",
    "\n",
    "#'@mahir696' is an handle\n",
    "#'Rolexxxxxx' has inflections 'xxxxxx'"
   ]
  },
  {
   "cell_type": "code",
   "execution_count": 18,
   "id": "8c344305",
   "metadata": {},
   "outputs": [
    {
     "data": {
      "text/plain": [
       "['@mahir696',\n",
       " \"I'm\",\n",
       " 'going',\n",
       " 'to',\n",
       " 'buy',\n",
       " 'a',\n",
       " 'Rolexxx',\n",
       " 'watch',\n",
       " 'that',\n",
       " 'cost',\n",
       " '$',\n",
       " '3000']"
      ]
     },
     "execution_count": 18,
     "metadata": {},
     "output_type": "execute_result"
    }
   ],
   "source": [
    "tt = TweetTokenizer(reduce_len=True)\n",
    "\n",
    "\n",
    "\n",
    "'''arguments for TweetTokenizer are : \n",
    "    preserve_case=True,\n",
    "    reduce_len=False,\n",
    "    strip_handles=False,\n",
    "    match_phone_numbers=True'''\n",
    "\n",
    "tt.tokenize(sentence)"
   ]
  },
  {
   "cell_type": "code",
   "execution_count": 19,
   "id": "af957b62",
   "metadata": {},
   "outputs": [
    {
     "data": {
      "text/plain": [
       "[\"I'm\",\n",
       " 'going',\n",
       " 'to',\n",
       " 'buy',\n",
       " 'a',\n",
       " 'Rolexxx',\n",
       " 'watch',\n",
       " 'that',\n",
       " 'cost',\n",
       " '$',\n",
       " '3000']"
      ]
     },
     "execution_count": 19,
     "metadata": {},
     "output_type": "execute_result"
    }
   ],
   "source": [
    "tt1 = TweetTokenizer(reduce_len=True,strip_handles=True) #strip_handles will remove twitter accounts names\n",
    "tt1.tokenize(sentence)"
   ]
  },
  {
   "cell_type": "code",
   "execution_count": null,
   "id": "5b2bd4b3",
   "metadata": {},
   "outputs": [],
   "source": []
  }
 ],
 "metadata": {
  "kernelspec": {
   "display_name": "Python 3 (ipykernel)",
   "language": "python",
   "name": "python3"
  },
  "language_info": {
   "codemirror_mode": {
    "name": "ipython",
    "version": 3
   },
   "file_extension": ".py",
   "mimetype": "text/x-python",
   "name": "python",
   "nbconvert_exporter": "python",
   "pygments_lexer": "ipython3",
   "version": "3.9.12"
  }
 },
 "nbformat": 4,
 "nbformat_minor": 5
}
